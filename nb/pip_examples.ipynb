{
 "cells": [
  {
   "cell_type": "markdown",
   "id": "c7d797bf",
   "metadata": {},
   "source": [
    "# PIP examples\n",
    "\n",
    "In this notebook we will show how to compute correlation functions with PIP and angular upweights.\n",
    "Look first at notebook basic_examples.ipynb."
   ]
  },
  {
   "cell_type": "code",
   "execution_count": null,
   "id": "9a474237",
   "metadata": {},
   "outputs": [],
   "source": []
  }
 ],
 "metadata": {
  "kernelspec": {
   "display_name": "cosmopipe-dev",
   "language": "python",
   "name": "cosmopipe-dev"
  },
  "language_info": {
   "codemirror_mode": {
    "name": "ipython",
    "version": 3
   },
   "file_extension": ".py",
   "mimetype": "text/x-python",
   "name": "python",
   "nbconvert_exporter": "python",
   "pygments_lexer": "ipython3",
   "version": "3.8.10"
  }
 },
 "nbformat": 4,
 "nbformat_minor": 5
}
